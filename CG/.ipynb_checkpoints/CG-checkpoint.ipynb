{
 "cells": [
  {
   "cell_type": "code",
   "execution_count": 1,
   "id": "dac1731a-6e72-4372-9ff5-2b6c7c304545",
   "metadata": {},
   "outputs": [],
   "source": [
    "from openmm.app import *\n",
    "from openmm import *\n",
    "from openmm.unit import *\n",
    "from sys import stdout\n",
    "import mdtraj as md\n",
    "import matplotlib.pyplot as plt"
   ]
  },
  {
   "cell_type": "code",
   "execution_count": 2,
   "id": "38013817-5564-4988-b797-898e50080f7b",
   "metadata": {},
   "outputs": [],
   "source": [
    "# Reading in data from the pair potential table file"
   ]
  },
  {
   "cell_type": "code",
   "execution_count": 3,
   "id": "b46c8246-a639-476c-9700-e54fa34b6d7e",
   "metadata": {},
   "outputs": [],
   "source": [
    "pdb = PDBFile('water512_CG.pdb')\n",
    "table_file = '1_1_bumper.table'\n",
    "\n",
    "coordinates_in_angstroms = pdb.positions\n",
    "coordinates_in_nanometers = coordinates_in_angstroms / 10.0\n",
    "\n",
    "energies = []  # energy values\n",
    "distances = []  # distance values\n",
    "\n",
    "with open(table_file, 'r') as file:\n",
    "    for _ in range(5):\n",
    "        next(file)\n",
    "\n",
    "    for line in file:\n",
    "        columns = line.split()\n",
    "\n",
    "        distance = float(columns[1])\n",
    "        energy = float(columns[2])\n",
    "        distance = distance*0.1   # converts to nm\n",
    "        energy = energy*4.184     # converts to kJ/mol\n",
    "\n",
    "        distances.append(distance)\n",
    "        energies.append(energy)"
   ]
  },
  {
   "cell_type": "code",
   "execution_count": 4,
   "id": "6c8d877d-d62e-4571-945d-056a9b6b82ae",
   "metadata": {},
   "outputs": [
    {
     "name": "stdout",
     "output_type": "stream",
     "text": [
      "Number of particles = 512\n"
     ]
    }
   ],
   "source": [
    "# Create an OpenMM System\n",
    "system = openmm.System()\n",
    "\n",
    "box_size = 2.5022 * nanometers\n",
    "#box_size = 3.0 * nanometers\n",
    "#system.setDefaultPeriodicBoxVectors([box_size, 0, 0], [0, box_size, 0], [0, 0, box_size])\n",
    "\n",
    "# Add particles to the system \n",
    "for atom in pdb.topology.atoms():\n",
    "    mass = 18.015400\n",
    "    system.addParticle(mass)\n",
    "\n",
    "N = system.getNumParticles()\n",
    "print (\"Number of particles =\", N)\n",
    "\n",
    "# Create a CustomCompoundBondForce with a tabulated potential\n",
    "nonbond_force = openmm.CustomNonbondedForce('energy(r)')"
   ]
  },
  {
   "cell_type": "code",
   "execution_count": 5,
   "id": "5459b90a-eb5d-40cd-b032-c1df6e98bd74",
   "metadata": {},
   "outputs": [
    {
     "name": "stdout",
     "output_type": "stream",
     "text": [
      "<openmm.openmm.System; proxy of <Swig Object of type 'OpenMM::System *' at 0x76f97bf1f50> >\n"
     ]
    }
   ],
   "source": [
    "# Define the non-bonded forces (tabulated function)\n",
    "\n",
    "tabulated_function = openmm.Continuous1DFunction(energies, 0.0, 1.0, True)\n",
    "nonbond_force.addTabulatedFunction('energy', tabulated_function)\n",
    "nonbond_force.setNonbondedMethod(openmm.CustomNonbondedForce.CutoffPeriodic)\n",
    "nonbond_force.setCutoffDistance(1.0)\n",
    "\n",
    "charge = 0.0\n",
    "for atom in pdb.topology.atoms():\n",
    "    nonbond_force.addParticle()\n",
    "\n",
    "# Add the CustomCompoundBondForce to the System\n",
    "system.addForce(nonbond_force)\n",
    "print (system)"
   ]
  },
  {
   "cell_type": "code",
   "execution_count": 6,
   "id": "e51678c9-664d-4f8f-ae82-80f30e4cd537",
   "metadata": {},
   "outputs": [
    {
     "name": "stdout",
     "output_type": "stream",
     "text": [
      "Box Vectors:\n",
      "[Vec3(x=2.0, y=0.0, z=0.0), Vec3(x=0.0, y=2.0, z=0.0), Vec3(x=0.0, y=0.0, z=2.0)] nm\n"
     ]
    }
   ],
   "source": [
    "# Molecular Dynamics\n",
    "\n",
    "#integrator = VerletIntegrator(0.005*picoseconds)\n",
    "#integrator = LangevinMiddleIntegrator(300*kelvin, 1/picosecond, 0.005*picoseconds)\n",
    "integrator = NoseHooverIntegrator(300*kelvin, 1/picosecond, 0.005*picoseconds, 4, 1, 1)\n",
    "simulation = Simulation(pdb.topology, system, integrator)\n",
    "simulation.context.setPositions(pdb.positions)\n",
    "#simulation.context.setPositions(coordinates_in_nanometers)\n",
    "#simulation.context.setPeriodicBoxVectors([box_size, 0, 0], [0, box_size, 0], [0, 0, box_size])\n",
    "simulation.minimizeEnergy()\n",
    "simulation.reporters.append(DCDReporter('output.dcd', 1000))\n",
    "simulation.reporters.append(StateDataReporter(stdout, 1000, step=True, potentialEnergy=True, temperature=True))\n",
    "#simulation.reporters.append(ForceReporter('forces.txt', 1000))\n",
    "\n",
    "# Get the state\n",
    "state = simulation.context.getState(getPositions=True, getVelocities=True, getEnergy=True, getForces=True, getParameters=True, enforcePeriodicBox=True)\n",
    "\n",
    "# Extract the box vectors\n",
    "box_vectors = state.getPeriodicBoxVectors()\n",
    "print(\"Box Vectors:\")\n",
    "print(box_vectors)"
   ]
  },
  {
   "cell_type": "code",
   "execution_count": 7,
   "id": "f76e4783-d096-488d-ab97-590d03f3da3d",
   "metadata": {},
   "outputs": [
    {
     "name": "stdout",
     "output_type": "stream",
     "text": [
      "#\"Step\",\"Potential Energy (kJ/mole)\",\"Temperature (K)\"\n",
      "1000,71953.05441832542,123404422085.60724\n",
      "2000,71915.3736358583,248788500136.46515\n",
      "3000,52735.80143338442,383339732420.5725\n",
      "4000,81024.8432956636,528859164260.9157\n",
      "5000,72330.31783866882,671799304084.6558\n"
     ]
    }
   ],
   "source": [
    "simulation.step(5000)"
   ]
  },
  {
   "cell_type": "code",
   "execution_count": 8,
   "id": "31abf669-d1f5-4094-ac90-c767ea22d1fa",
   "metadata": {},
   "outputs": [
    {
     "ename": "TypeError",
     "evalue": "unsupported operand type(s) for /: 'float' and 'NoneType'",
     "output_type": "error",
     "traceback": [
      "\u001b[0;31m---------------------------------------------------------------------------\u001b[0m",
      "\u001b[0;31mTypeError\u001b[0m                                 Traceback (most recent call last)",
      "Cell \u001b[0;32mIn[8], line 8\u001b[0m\n\u001b[1;32m      5\u001b[0m oxygen_atoms \u001b[38;5;241m=\u001b[39m traj\u001b[38;5;241m.\u001b[39mtopology\u001b[38;5;241m.\u001b[39mselect(\u001b[38;5;124m'\u001b[39m\u001b[38;5;124mname O\u001b[39m\u001b[38;5;124m'\u001b[39m)\n\u001b[1;32m      7\u001b[0m \u001b[38;5;66;03m# Compute RDF\u001b[39;00m\n\u001b[0;32m----> 8\u001b[0m rdf, r \u001b[38;5;241m=\u001b[39m md\u001b[38;5;241m.\u001b[39mcompute_rdf(traj, pairs\u001b[38;5;241m=\u001b[39mtraj\u001b[38;5;241m.\u001b[39mtopology\u001b[38;5;241m.\u001b[39mselect_pairs(oxygen_atoms, oxygen_atoms), r_range\u001b[38;5;241m=\u001b[39m(\u001b[38;5;241m0.0\u001b[39m, \u001b[38;5;241m1.5\u001b[39m), bin_width\u001b[38;5;241m=\u001b[39m\u001b[38;5;241m0.01\u001b[39m)\n\u001b[1;32m     10\u001b[0m \u001b[38;5;66;03m# Plot RDF\u001b[39;00m\n\u001b[1;32m     11\u001b[0m plt\u001b[38;5;241m.\u001b[39mplot(r, rdf)\n",
      "File \u001b[0;32m~/anaconda3/lib/python3.11/site-packages/mdtraj/geometry/rdf.py:102\u001b[0m, in \u001b[0;36mcompute_rdf\u001b[0;34m(traj, pairs, r_range, bin_width, n_bins, periodic, opt)\u001b[0m\n\u001b[1;32m     95\u001b[0m \u001b[38;5;66;03m# Normalize by volume of the spherical shell.\u001b[39;00m\n\u001b[1;32m     96\u001b[0m \u001b[38;5;66;03m# See discussion https://github.com/mdtraj/mdtraj/pull/724. There might be\u001b[39;00m\n\u001b[1;32m     97\u001b[0m \u001b[38;5;66;03m# a less biased way to accomplish this. The conclusion was that this could\u001b[39;00m\n\u001b[1;32m     98\u001b[0m \u001b[38;5;66;03m# be interesting to try, but is likely not hugely consequential. This method\u001b[39;00m\n\u001b[1;32m     99\u001b[0m \u001b[38;5;66;03m# of doing the calculations matches the implementation in other packages like\u001b[39;00m\n\u001b[1;32m    100\u001b[0m \u001b[38;5;66;03m# AmberTools' cpptraj and gromacs g_rdf.\u001b[39;00m\n\u001b[1;32m    101\u001b[0m V \u001b[38;5;241m=\u001b[39m (\u001b[38;5;241m4\u001b[39m \u001b[38;5;241m/\u001b[39m \u001b[38;5;241m3\u001b[39m) \u001b[38;5;241m*\u001b[39m np\u001b[38;5;241m.\u001b[39mpi \u001b[38;5;241m*\u001b[39m (np\u001b[38;5;241m.\u001b[39mpower(edges[\u001b[38;5;241m1\u001b[39m:], \u001b[38;5;241m3\u001b[39m) \u001b[38;5;241m-\u001b[39m np\u001b[38;5;241m.\u001b[39mpower(edges[:\u001b[38;5;241m-\u001b[39m\u001b[38;5;241m1\u001b[39m], \u001b[38;5;241m3\u001b[39m))\n\u001b[0;32m--> 102\u001b[0m norm \u001b[38;5;241m=\u001b[39m \u001b[38;5;28mlen\u001b[39m(pairs) \u001b[38;5;241m*\u001b[39m np\u001b[38;5;241m.\u001b[39msum(\u001b[38;5;241m1.0\u001b[39m \u001b[38;5;241m/\u001b[39m traj\u001b[38;5;241m.\u001b[39munitcell_volumes) \u001b[38;5;241m*\u001b[39m V\n\u001b[1;32m    103\u001b[0m g_r \u001b[38;5;241m=\u001b[39m g_r\u001b[38;5;241m.\u001b[39mastype(np\u001b[38;5;241m.\u001b[39mfloat64) \u001b[38;5;241m/\u001b[39m norm  \u001b[38;5;66;03m# From int64.\u001b[39;00m\n\u001b[1;32m    104\u001b[0m \u001b[38;5;28;01mreturn\u001b[39;00m r, g_r\n",
      "\u001b[0;31mTypeError\u001b[0m: unsupported operand type(s) for /: 'float' and 'NoneType'"
     ]
    }
   ],
   "source": [
    "# Load the trajectory\n",
    "traj = md.load('output.dcd', top='water512_CG.pdb')\n",
    "\n",
    "# Define atom pairs for which to compute the RDF (all the CG beads here)\n",
    "oxygen_atoms = traj.topology.select('name O')\n",
    "\n",
    "# Compute RDF\n",
    "rdf, r = md.compute_rdf(traj, pairs=traj.topology.select_pairs(oxygen_atoms, oxygen_atoms), r_range=(0.0, 1.5), bin_width=0.01)\n",
    "\n",
    "# Plot RDF\n",
    "plt.plot(rdf, r)\n",
    "plt.xlabel('Distance (nm)')\n",
    "plt.ylabel('g(r)')\n",
    "plt.title('Radial Distribution Function')\n",
    "plt.show()"
   ]
  }
 ],
 "metadata": {
  "kernelspec": {
   "display_name": "Python 3 (ipykernel)",
   "language": "python",
   "name": "python3"
  },
  "language_info": {
   "codemirror_mode": {
    "name": "ipython",
    "version": 3
   },
   "file_extension": ".py",
   "mimetype": "text/x-python",
   "name": "python",
   "nbconvert_exporter": "python",
   "pygments_lexer": "ipython3",
   "version": "3.11.7"
  }
 },
 "nbformat": 4,
 "nbformat_minor": 5
}
